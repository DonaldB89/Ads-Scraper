{
 "cells": [
  {
   "cell_type": "code",
   "execution_count": 41,
   "metadata": {},
   "outputs": [],
   "source": [
    "import pandas as pd\n",
    "import requests\n",
    "from bs4 import BeautifulSoup\n",
    "import json"
   ]
  },
  {
   "cell_type": "code",
   "execution_count": 61,
   "metadata": {},
   "outputs": [
    {
     "name": "stdout",
     "output_type": "stream",
     "text": [
      "[\n",
      "  {\n",
      "    \"Link\": \"https://www.nike.com/gb/skateboarding\",\n",
      "    \"Heading\": \"The Official Nike Site - Nike SB\"\n",
      "  }\n",
      "]\n"
     ]
    }
   ],
   "source": [
    "headers = {\n",
    "    'User-agent':\n",
    "    \"Mozilla/5.0 (Windows NT 10.0; Win64; x64) AppleWebKit/537.36 (KHTML, like Gecko) Chrome/70.0.3538.102 Safari/537.36 Edge/18.19582\"\n",
    "}\n",
    "\n",
    "html = requests.get('https://www.google.com/search?q=nike sb',\n",
    "                    headers=headers).text\n",
    "\n",
    "soup = BeautifulSoup(html, 'lxml')\n",
    "\n",
    "summary = []\n",
    "\n",
    "for container in soup.findAll('div', class_='uEierd'):\n",
    "  link = container.find('a')['href']\n",
    "  heading = container.find('div', class_='cfxYMc JfZTW c4Djg MUxGbd v0nnCb').text\n",
    "\n",
    "  summary.append({\n",
    "      'Link': link,\n",
    "      'Heading': heading,\n",
    "  })\n",
    "\n",
    "print(json.dumps(summary, indent=2, ensure_ascii=False))"
   ]
  },
  {
   "cell_type": "code",
   "execution_count": null,
   "metadata": {},
   "outputs": [],
   "source": [
    "for container in soup.findAll('div', class_='tF2Cxc'):\n",
    "  heading = container.find('h3', class_='LC20lb DKV0Md').text\n",
    "  article_summary = container.find('span', class_='aCOpRe').text\n",
    "  link = container.find('a')['href']\n",
    "\n",
    "  summary.append({\n",
    "      'Heading': heading,\n",
    "      'Article Summary': article_summary,\n",
    "      'Link': link,\n",
    "  })"
   ]
  }
 ],
 "metadata": {
  "interpreter": {
   "hash": "1a729281da7bd3a662772d74a77fd91442902d7840dfc29909222b81dcdf146b"
  },
  "kernelspec": {
   "display_name": "Python 3.9.4 64-bit",
   "name": "python3"
  },
  "language_info": {
   "codemirror_mode": {
    "name": "ipython",
    "version": 3
   },
   "file_extension": ".py",
   "mimetype": "text/x-python",
   "name": "python",
   "nbconvert_exporter": "python",
   "pygments_lexer": "ipython3",
   "version": "3.9.4"
  },
  "orig_nbformat": 4
 },
 "nbformat": 4,
 "nbformat_minor": 2
}
